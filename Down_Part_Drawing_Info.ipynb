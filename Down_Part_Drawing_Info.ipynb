{
 "cells": [
  {
   "cell_type": "code",
   "execution_count": 1,
   "id": "583352ac",
   "metadata": {},
   "outputs": [],
   "source": [
    "import PyPDF2\n",
    "import re\n",
    "import os\n",
    "from tkinter import filedialog\n",
    "import tkinter as tk\n",
    "# import pandas as pd\n",
    "# import openpyxl as op\n",
    "import xlwings as xw\n",
    "from tkinter import simpledialog\n",
    "# import fitz\n",
    "# from fitz import Document, Page, Rect\n",
    "import os.path\n",
    "from selenium import webdriver\n",
    "from selenium.webdriver import ActionChains\n",
    "from time import sleep\n",
    "import random\n",
    "from selenium.common.exceptions import TimeoutException\n",
    "from selenium.webdriver.support.wait import WebDriverWait\n",
    "from selenium.webdriver.support import expected_conditions as EC\n",
    "from selenium.webdriver.common.by import By\n",
    "from selenium.webdriver.common.keys import Keys\n",
    "from selenium.webdriver.support.ui import WebDriverWait as wait\n",
    "import xlsxwriter"
   ]
  },
  {
   "cell_type": "code",
   "execution_count": 2,
   "id": "9d6fb62e",
   "metadata": {},
   "outputs": [],
   "source": [
    "root = tk.Tk()\n",
    "root.wm_attributes('-topmost', 1)\n",
    "root.withdraw()\n",
    "file_full = tk.filedialog.askopenfilename(title= \"Select Standard BOM\")\n",
    "file_type = os.path.splitext(file_full)[1]\n",
    "list_path = os.path.dirname(file_full)\n",
    "wb = xw.Book(file_full)\n",
    "ws = wb.sheets.active\n",
    "lr = ws.range('C' + str(wb.sheets[0].cells.last_cell.row)).end('up').row\n",
    "# pn_list = ws.range('B1:B' + str(lr)).value"
   ]
  },
  {
   "cell_type": "code",
   "execution_count": 3,
   "id": "8815d926",
   "metadata": {},
   "outputs": [],
   "source": [
    "get_info = tk.messagebox.askquestion('Get info',\\\n",
    "            'do you want to get RoHS and FRU info?',\\\n",
    "            icon='question')\n",
    "download_attached = tk.messagebox.askquestion('Download Attached',\\\n",
    "            'do you want to Download Attached?',\\\n",
    "            icon='question')"
   ]
  },
  {
   "cell_type": "code",
   "execution_count": 4,
   "id": "8ef23ad7",
   "metadata": {},
   "outputs": [],
   "source": [
    "# driver = webdriver.Edge()\n",
    "# actions = ActionChains(driver)\n",
    "# #docmentation/report/Unrel Part number revision history\n",
    "# edoc_url = \"http://rdt.kla-tencor.com/rdt2/edoc_ei/scripts/eiPartRevHistory.asp?txtProduct=EDOC&Tab=4\"\n",
    "# driver.get(edoc_url)\n",
    "# print('opening Edoc ...')\n",
    "# edoc_page = driver.current_window_handle\n",
    "# sleep(2)\n",
    "# driver.switch_to.window(edoc_page)\n",
    "\n",
    "\n"
   ]
  },
  {
   "cell_type": "code",
   "execution_count": 5,
   "id": "846727bc",
   "metadata": {},
   "outputs": [],
   "source": [
    "# mpn"
   ]
  },
  {
   "cell_type": "code",
   "execution_count": 6,
   "id": "816754d7",
   "metadata": {},
   "outputs": [],
   "source": [
    "# lr = ws.range('B' + str(wb.sheets[0].cells.last_cell.row)).end('up').row\n",
    "# # print('lst row:',lr)\n",
    "# for i in range(2,lr+1):\n",
    "#     mpn = str(ws.range(i,2).value) #.strip()\n",
    "#     driver.switch_to.window(edoc_page)\n",
    "#     search_input = WebDriverWait(driver, 100).until(EC.presence_of_element_located((By.XPATH,\\\n",
    "#         '/html/body/table/tbody/tr/td/table[2]/tbody/tr/td[2]/form[3]/table/tbody/tr[1]/td[2]/input')))\n",
    "# #     mpn = 'DF-HSL-1524'\n",
    "#     search_input.clear()\n",
    "#     search_input.send_keys(mpn+'*')\n",
    "#     sleep(1)\n",
    "#     search_input.send_keys(Keys.RETURN)\n",
    "#     driver.switch_to.window(driver.window_handles[-1])\n",
    "    \n",
    "#     table = driver.find_elements(By.XPATH, \\\n",
    "#             '/html/body/table/tbody/tr/td/table[2]/tbody/tr/td[2]/table[2]/tbody/tr')\n",
    "#     if len(table) < 1:\n",
    "#         driver.switch_to.window(driver.window_handles[-1])\n",
    "#         back_btn = WebDriverWait(driver, 2).until(EC.presence_of_element_located((By.XPATH,\\\n",
    "#         '/html/body/table/tbody/tr/td/table[2]/tbody/tr/td[2]/form/table/tbody/tr[3]/td/div/input')))\n",
    "#         back_btn.click()\n",
    "#         ws.range(i,6).value = 'Not found in EDOC'\n",
    "#     elif len(table) > 2:\n",
    "#         ask = tk.messagebox.askokcancel('Confirm','Please check:')\n",
    "#         print('more than one PNs found')\n",
    "#     else:\n",
    "#         driver.switch_to.window(driver.window_handles[-1])\n",
    "#         print(table[1].text)\n",
    "#         ws.range(i,6).value = table[1].text\n",
    "        \n",
    "        \n",
    "#         back_btn = WebDriverWait(driver, 2).until(EC.presence_of_element_located((By.XPATH,\\\n",
    "#             '/html/body/table/tbody/tr/td/table[2]/tbody/tr/td[2]/form/table/tbody/tr/td/div/input')))\n",
    "\n",
    "#         back_btn.click()\n",
    "    \n",
    "    "
   ]
  },
  {
   "cell_type": "code",
   "execution_count": 7,
   "id": "e93c29b1",
   "metadata": {},
   "outputs": [
    {
     "name": "stdout",
     "output_type": "stream",
     "text": [
      "opening Enovia ...\n"
     ]
    }
   ],
   "source": [
    "#check on Enovia\n",
    "driver = webdriver.Edge()\n",
    "actions = ActionChains(driver)\n",
    "enovia_url = 'https://3dx.kla-tencor.com/3dspace/common/KLA_emxNavigator.jsp?ticket=ST-56034-MgBi6B0tOkgnvCEwahkW-cas&collabSpace=KLA+Collabspace'\n",
    "driver.get(enovia_url)\n",
    "print('opening Enovia ...')\n",
    "enovia_page = driver.current_window_handle\n",
    "if download_attached == \"yes\":\n",
    "    ask = tk.messagebox.askokcancel('Setting','Please turn on setting/Cookies and site permissions/PDF documents/Always download PDF files')"
   ]
  },
  {
   "cell_type": "code",
   "execution_count": 8,
   "id": "f7bb48f0",
   "metadata": {},
   "outputs": [],
   "source": [
    "# driver.switch_to.window(driver.window_handles[-1])\n",
    "# enovia_page = driver.current_window_handle"
   ]
  },
  {
   "cell_type": "code",
   "execution_count": 35,
   "id": "f17d5945",
   "metadata": {},
   "outputs": [
    {
     "name": "stdout",
     "output_type": "stream",
     "text": [
      "1 1 Assembly # (BOM)\n",
      "1 3 0657645-000\n",
      "1 4 ASSY,OUTRIGGER TEST FIXTURE,SP7\n",
      "1 5 Date\n",
      "2 1 Level\n",
      "2 2 Find Number\n",
      "2 3 Part Number\n",
      "PN row-col 2 3\n",
      "2 4 Part Description\n",
      "2 5 Quantity\n",
      "2 6 Not found in EDOC\n",
      "3 3 0657635-000\n",
      "3 4 WELDED FRAME,FIXTURE,OUTRIGGER,SP7\n",
      "3 6 Not found in EDOC\n",
      "4 3 0657654-000\n",
      "4 4 WELDED,HOLDER  2 GEARBOX, SCAN SIDE\n",
      "4 6 Not found in EDOC\n"
     ]
    }
   ],
   "source": [
    "col_PN = 2\n",
    "row_PN = 2\n",
    "col_des = 4\n",
    "col_des = False\n",
    "for row in range(1,5):\n",
    "    for col in range(1,7):\n",
    "        \n",
    "#         print(type(ws.range(row,col).value))\n",
    "        if ws.range(row,col).value is not None and type(ws.range(row,col).value) == str:\n",
    "            print(row,col,ws.range(row,col).value)\n",
    "            if \"pn\" in ws.range(row,col).value.strip().lower() \\\n",
    "            or \"part number\" in ws.range(row,col).value.strip().lower():\n",
    "                print('PN row-col', row, col)\n",
    "                row_PN = row\n",
    "                col_PN = col\n",
    "            if ws.range(row,col).value.strip() == \"MPN\":\n",
    "                print('MPN row-col', row, col)\n",
    "            if \"description\" in ws.range(row,col).value.strip().lower():\n",
    "                col_des = True\n",
    "                col_des = col"
   ]
  },
  {
   "cell_type": "code",
   "execution_count": 10,
   "id": "081e89bd",
   "metadata": {},
   "outputs": [
    {
     "data": {
      "text/plain": [
       "'C'"
      ]
     },
     "execution_count": 10,
     "metadata": {},
     "output_type": "execute_result"
    }
   ],
   "source": [
    "col_pn_leter = xlsxwriter.utility.xl_col_to_name(col_PN-1)\n",
    "col_pn_leter"
   ]
  },
  {
   "cell_type": "code",
   "execution_count": 11,
   "id": "1bd8b48a",
   "metadata": {},
   "outputs": [
    {
     "name": "stdout",
     "output_type": "stream",
     "text": [
      "3 PN: 0657635-000\n",
      "len(affected_items) 1\n",
      "1 sap_type: HALB\n",
      "PN/Eno_PN: 0657635-000 / 0657635-000\n",
      "Mechanical Design 0657635-000 AA Preliminary No No No MECHANICAL DESIGN SCM SFS Eagle URRUTIA, DANNY PAUL HALB -000\n",
      "4 PN: 0657654-000\n",
      "len(affected_items) 1\n",
      "1 sap_type: HALB\n",
      "PN/Eno_PN: 0657654-000 / 0657654-000\n",
      "Mechanical Assembly 0657654-000 AA Preliminary No No No MECHANICAL ASSEMBLY SCM SFS Eagle URRUTIA, DANNY PAUL HALB -000\n",
      "5 PN: 0657653-000\n",
      "len(affected_items) 1\n",
      "1 sap_type: HALB\n",
      "PN/Eno_PN: 0657653-000 / 0657653-000\n",
      "Mechanical Assembly 0657653-000 AA Preliminary No No No MECHANICAL ASSEMBLY SCM SFS Eagle URRUTIA, DANNY PAUL HALB -000\n",
      "6 PN: 0657640-000\n",
      "len(affected_items) 2\n",
      "2 sap_type: HALB\n",
      "PN/Eno_PN: 0657640-000 / 0657640-000\n",
      "Mechanical Design 0657640-000 AA Release Pending No No No BLOCK,BASE,FAC,110,TEST,OUTRIGGER,SP7 2 SCM SFS Eagle Tien, Dong Van 3008 (05 - Unreleased) HALB -000 D43826 SP7: LOAD UNREL PARTS Release Pending No\n",
      "7 PN: 0657638-000\n",
      "len(affected_items) 2\n",
      "2 sap_type: HALB\n",
      "PN/Eno_PN: 0657638-000 / 0657638-000\n",
      "Mechanical Design 0657638-000 AA Release Pending No No No BLOCK,BASE,MID,110,TEST,OUTRIGGER,SP7 2 SCM SFS Eagle Tien, Dong Van 3008 (05 - Unreleased) HALB -000 D43826 SP7: LOAD UNREL PARTS Release Pending No\n",
      "done \n"
     ]
    }
   ],
   "source": [
    "lr = ws.range(col_pn_leter + str(wb.sheets[0].cells.last_cell.row)).end('up').row\n",
    "# print('lst row:',lr)\n",
    "pn_preliminary = []\n",
    "for i in range(row_PN+1,lr+1):\n",
    "    pn = str(ws.range(i,col_PN).value) #str(part_find).strip().split()[0].split('_')[0]\n",
    "    print(i, \"PN:\", pn)\n",
    "    if pn == '' or not pn[:7].isnumeric():\n",
    "        continue\n",
    "    pn = str(pn).strip().split()[0].split('_')[0]\n",
    "    driver.switch_to.window(enovia_page)\n",
    "    search_field = WebDriverWait(driver, 100).until(EC.presence_of_element_located((By.XPATH,\\\n",
    "            '//*[@id=\"quickSearch\"]')))\n",
    "    search_field.clear()\n",
    "    search_field.send_keys(pn[:7]+'*')\n",
    "#     sleep(1)\n",
    "    search_field.send_keys(Keys.RETURN)\n",
    "    sleep(2)\n",
    "    driver.switch_to.window(driver.window_handles[-1])\n",
    "    result_win = driver.current_window_handle\n",
    "    wait(driver, 100).until(EC.frame_to_be_available_and_switch_to_it('tableContentFrame'))\n",
    "#     driver.switch_to.frame('tableContentFrame')\n",
    "    driver.switch_to.frame('tableBodyRight')\n",
    "    affected_items = driver.find_elements(By.XPATH, '/html/body/form/div[2]/div[2]/table/tbody/tr')\n",
    "    print('len(affected_items)',len(affected_items))\n",
    "    for j in range(len(affected_items),0,-1):\n",
    "        pn_enovia = WebDriverWait(driver, 2).until\\\n",
    "            (EC.presence_of_element_located((By.XPATH, '/html/body/form/div[2]/div[2]/table/tbody/tr['\\\n",
    "                        + str(j) + ']/td[4]')))\n",
    "#         /html/body/form/div[2]/div[2]/table/tbody/tr[11]/td[18]/a\n",
    "#             /html/body/form/div[2]/div[2]/table/tbody/tr[11]/td[16]\n",
    "        sap_type = WebDriverWait(driver, 20).until\\\n",
    "            (EC.presence_of_element_located((By.XPATH, '/html/body/form/div[2]/div[2]/table/tbody/tr['\\\n",
    "                        + str(j) + ']/td[16]')))\n",
    "        print(j,'sap_type:',sap_type.text)\n",
    "        print('PN/Eno_PN:',pn,'/',pn_enovia.text)\n",
    "        if pn[:-3] == pn_enovia.text[:-3] and sap_type.text != '': #\n",
    "            print(affected_items[j-1].text)\n",
    "            des_eno = WebDriverWait(driver, 2).until\\\n",
    "            (EC.presence_of_element_located((By.XPATH, '/html/body/form/div[2]/div[2]/table/tbody/tr['\\\n",
    "                        + str(j) + ']/td[10]/span')))\n",
    "            status_eno = WebDriverWait(driver, 2).until\\\n",
    "            (EC.presence_of_element_located((By.XPATH, '/html/body/form/div[2]/div[2]/table/tbody/tr['\\\n",
    "                        + str(j) + ']/td[6]/a')))\n",
    "            \n",
    "            ws.range(i,20).value = des_eno.text\n",
    "            ws.range(i,21).value = status_eno.text\n",
    "            if status_eno.text == 'Preliminary':\n",
    "                pn_preliminary.append([i,pn])\n",
    "            # if download selected\n",
    "            if download_attached == \"yes\":\n",
    "                try:\n",
    "                    attached = WebDriverWait(driver, 2).until\\\n",
    "                    (EC.presence_of_element_located((By.XPATH, '/html/body/form/div[2]/div[2]/table/tbody/tr['\\\n",
    "                                + str(j) + ']/td[11]/a')))\n",
    "                    actions.move_to_element(attached).perform()\n",
    "                    attached.click()\n",
    "                    print('Clicked to attached')\n",
    "                    sleep(2)\n",
    "                    driver.switch_to.window(driver.window_handles[-1])\n",
    "                    attached_win = driver.current_window_handle\n",
    "                    wait(driver, 100).until(EC.frame_to_be_available_and_switch_to_it('tvcInlineFrame_0'))\n",
    "                    files = driver.find_elements(By.XPATH,  '/html/body/div[2]/div/div')\n",
    "                    print('num of files:',len(files))\n",
    "                    file_type = \"\"\n",
    "                    for k in range(1,len(files)):\n",
    "                        driver.switch_to.window(attached_win)\n",
    "                        wait(driver, 100).until(EC.frame_to_be_available_and_switch_to_it('tvcInlineFrame_0'))\n",
    "                        files = driver.find_elements(By.XPATH,  '/html/body/div[2]/div/div')\n",
    "                        file_type = WebDriverWait(driver, 2).until\\\n",
    "                            (EC.presence_of_element_located((By.XPATH, '/html/body/div[2]/div/div['\\\n",
    "                                        +str(k+1) + ']')))\n",
    "                        print('file_type:',file_type.text)\n",
    "                        if file_type != \"\": #'.pdf' in file_type.text:\n",
    "                            download = WebDriverWait(driver, 2).until\\\n",
    "                            (EC.presence_of_element_located((By.XPATH, '/html/body/div[2]/div/div['\\\n",
    "                                                +str(k+1) + ']')))\n",
    "                            actions.move_to_element(download).perform()\n",
    "                            download.click()\n",
    "                            download_icon = WebDriverWait(driver, 2).until\\\n",
    "                            (EC.presence_of_element_located((By.XPATH, '/html/body/div[2]/div/div['\\\n",
    "                                                +str(k+1) + ']/div/img[1]')))\n",
    "                #             actions.move_to_element(download).perform()\n",
    "                            download_icon.click()\n",
    "                            sleep(2)\n",
    "                            driver.switch_to.window(driver.window_handles[-1])\n",
    "                            if driver.current_window_handle != result_win \\\n",
    "                            and driver.current_window_handle != enovia_page:\n",
    "                                download_win = driver.current_window_handle\n",
    "                            print('clicked download')\n",
    "                            sleep(4)\n",
    "                            ws.range(i,24).value = 'has downloaded document'\n",
    "    #                         break\n",
    "                        try:\n",
    "                            driver.switch_to.window(download_win)\n",
    "                            driver.close()\n",
    "                        except:\n",
    "                            pass\n",
    "                    try:\n",
    "                        driver.switch_to.window(driver.window_handles[-1])\n",
    "                        if driver.current_window_handle != result_win \\\n",
    "                        and driver.current_window_handle != enovia_page:\n",
    "                            driver.close()\n",
    "                    except:\n",
    "                        pass\n",
    "                except:\n",
    "                    print('can not down ',pn)\n",
    "                    pass\n",
    "            if get_info == 'yes':\n",
    "                driver.switch_to.window(result_win)\n",
    "                print('result_win:',result_win)\n",
    "                driver.switch_to.frame('tableContentFrame')\n",
    "                driver.switch_to.frame('tableBodyRight')\n",
    "    #             /html/body/form/div[2]/div[2]/table/tbody/tr[4]/td[1]/a\n",
    "                open_part = WebDriverWait(driver, 2).until\\\n",
    "                (EC.presence_of_element_located((By.XPATH, '/html/body/form/div[2]/div[2]/table/tbody/tr['\\\n",
    "                            + str(j) + ']/td[1]/a')))\n",
    "                print('open_part',open_part)\n",
    "                actions.move_to_element(open_part).perform()\n",
    "                open_part.click()\n",
    "                sleep(1)\n",
    "\n",
    "                driver.switch_to.window(driver.window_handles[-1])\n",
    "                if driver.current_window_handle != result_win \\\n",
    "                and driver.current_window_handle != enovia_page:\n",
    "                    detail_win = driver.current_window_handle\n",
    "                    print('found detail win',detail_win)\n",
    "                else:\n",
    "                    for handle in driver.window_handles:\n",
    "                        if handle != result_win \\\n",
    "                        and handle != enovia_page:\n",
    "                            detail_win = handle\n",
    "                            break\n",
    "    #                 else:\n",
    "    #                     print('can not find detail win')\n",
    "                print('detail_win:',detail_win)\n",
    "                wait(driver, 100).until(EC.frame_to_be_available_and_switch_to_it('content'))\n",
    "    #             /html/body/div[3]/div/div/div[3]/div[1]/ul/li[1]/div/a[1]\n",
    "                pn_detail = WebDriverWait(driver, 20).until\\\n",
    "                (EC.presence_of_element_located((By.XPATH, '/html/body/div[3]/div/div/div[3]/div[1]/ul/li[1]/div/a[1]')))\n",
    "                print('pn_detail',pn_detail)\n",
    "                pn_detail.click()\n",
    "                sleep(2)\n",
    "    #             print('driver.page_source',driver.page_source)  \n",
    "                driver.switch_to.window(detail_win)\n",
    "                driver.maximize_window()\n",
    "                wait(driver, 100).until(EC.frame_to_be_available_and_switch_to_it('content'))\n",
    "                wait(driver, 100).until(EC.frame_to_be_available_and_switch_to_it('detailsDisplay'))\n",
    "                wait(driver, 100).until(EC.frame_to_be_available_and_switch_to_it('tvcTabs0contentFrame'))\n",
    "                FRU_pn = WebDriverWait(driver, 50).until\\\n",
    "                (EC.presence_of_element_located((By.XPATH, '/html/body/div[3]/form/div/div[2]/table/tbody/tr[16]/td[2]')))\n",
    "                print('FRU_pn',FRU_pn.text)\n",
    "    #             /html/body/div[3]/form/div/div[2]/table/tbody/tr[17]/td[2]\n",
    "                RoHS_pn = WebDriverWait(driver, 2).until\\\n",
    "                (EC.presence_of_element_located((By.XPATH, '/html/body/div[3]/form/div/div[2]/table/tbody/tr[17]/td[2]')))\n",
    "                print('RoHS_pn',RoHS_pn.text)\n",
    "                sleep(5)\n",
    "                ws.range(i,22).value = FRU_pn.text\n",
    "                ws.range(i,23).value = RoHS_pn.text\n",
    "    #             result_win = driver.current_window_handle\n",
    "                driver.switch_to.window(driver.window_handles[-1])\n",
    "                if driver.current_window_handle != enovia_page:\n",
    "                    driver.close()\n",
    "            try:\n",
    "                driver.switch_to.window(detail_win)\n",
    "                driver.close()\n",
    "                driver.switch_to.window(result_win)\n",
    "                driver.close()\n",
    "            except:\n",
    "                pass\n",
    "            break\n",
    "    try:\n",
    "        driver.switch_to.window(driver.window_handles[-1])\n",
    "        if driver.current_window_handle != enovia_page:\n",
    "            driver.close()\n",
    "\n",
    "    except:\n",
    "        pass\n",
    "#     break\n",
    "print('done ')"
   ]
  },
  {
   "cell_type": "code",
   "execution_count": 12,
   "id": "10462873",
   "metadata": {},
   "outputs": [
    {
     "data": {
      "text/plain": [
       "[[3, '0657635-000'], [4, '0657654-000'], [5, '0657653-000']]"
      ]
     },
     "execution_count": 12,
     "metadata": {},
     "output_type": "execute_result"
    }
   ],
   "source": [
    "pn_preliminary"
   ]
  },
  {
   "cell_type": "code",
   "execution_count": 21,
   "id": "bdf4533c",
   "metadata": {
    "scrolled": true
   },
   "outputs": [
    {
     "name": "stdout",
     "output_type": "stream",
     "text": [
      "opening Edoc ...\n"
     ]
    }
   ],
   "source": [
    "# driver = webdriver.Edge()\n",
    "# actions = ActionChains(driver)\n",
    "driver.switch_to.window(enovia_page)\n",
    "edoc_url = \"http://rdt.kla-tencor.com/rdt2/edoc_ei/scripts/eiPartRevHistory.asp?txtProduct=EDOC&Tab=4\"\n",
    "driver.get(edoc_url)\n",
    "print('opening Edoc ...')\n",
    "edoc_page = driver.current_window_handle\n",
    "sleep(2)\n",
    "driver.switch_to.window(edoc_page)"
   ]
  },
  {
   "cell_type": "code",
   "execution_count": 42,
   "id": "e73123c7",
   "metadata": {
    "scrolled": true
   },
   "outputs": [
    {
     "name": "stdout",
     "output_type": "stream",
     "text": [
      "0657635-000\n",
      "AA\n",
      "WELDED FRAME,FIXTURE,OUTRIGGER,SP7\n",
      "0657654-000\n",
      "AA\n",
      "WELDED,HOLDER 2 GEARBOX, SCAN SIDE\n",
      "WELDED,HOLDER 2 GEARBOX, SCAN SIDE\n",
      "0657653-000\n",
      "AA\n",
      "WELDED,HOLDER 1 GEARBOX,ILUMINIUM SIDE\n"
     ]
    }
   ],
   "source": [
    "for pn in pn_preliminary:\n",
    "    mpn = pn[1][:-1] #str(ws.range(i,3).value) #.strip()\n",
    "    driver.switch_to.window(edoc_page)\n",
    "    search_input = WebDriverWait(driver, 100).until(EC.presence_of_element_located((By.XPATH,\\\n",
    "        '/html/body/table/tbody/tr/td/table[2]/tbody/tr/td[2]/form[1]/table/tbody/tr[1]/td[2]/input')))\n",
    "#    /html/body/table/tbody/tr/td/table[2]/tbody/tr/td[2]/form[1]/table/tbody/tr[1]/td[2]/input\n",
    "    search_input.clear()\n",
    "    search_input.send_keys(mpn+'*')\n",
    "    sleep(1)\n",
    "    search_input.send_keys(Keys.RETURN)\n",
    "    driver.switch_to.window(driver.window_handles[-1])\n",
    "    \n",
    "    table = driver.find_elements(By.XPATH, \\\n",
    "            '/html/body/table/tbody/tr/td/table[2]/tbody/tr/td[2]/table[2]/tbody/tr')\n",
    "    if len(table) < 1:\n",
    "        driver.switch_to.window(driver.window_handles[-1])\n",
    "        back_btn = WebDriverWait(driver, 2).until(EC.presence_of_element_located((By.XPATH,\\\n",
    "        '/html/body/table/tbody/tr/td/table[2]/tbody/tr/td[2]/form/table/tbody/tr[3]/td/div/input')))\n",
    "        #/html/body/table/tbody/tr/td/table[2]/tbody/tr/td[2]/form/table/tbody/tr/td/div/input\n",
    "        back_btn.click()\n",
    "        ws.range(i,6).value = 'Not found in EDOC'\n",
    "    elif len(table) > 2:\n",
    "        ask = tk.messagebox.askokcancel('Confirm','Please check:')\n",
    "        print('more than one PNs found')\n",
    "    else:\n",
    "        driver.switch_to.window(driver.window_handles[-1])\n",
    "        print(table[1].text)\n",
    "        if col_des and (table[1].text.split('\\n')[-1].strip() != ws.range(pn[0],col_des).value.strip()):\n",
    "            print(table[1].text.split('\\n')[-1])\n",
    "            ws.range(pn[0],col_des).color = (255,255,0)\n",
    "        ws.range(pn[0],25).value = table[1].text.replace(\"\\n\", \"/\")\n",
    "        \n",
    "        \n",
    "        back_btn = WebDriverWait(driver, 2).until(EC.presence_of_element_located((By.XPATH,\\\n",
    "            '/html/body/table/tbody/tr/td/table[2]/tbody/tr/td[2]/form/table/tbody/tr/td/div/input')))\n",
    "        \n",
    "        back_btn.click()"
   ]
  },
  {
   "cell_type": "code",
   "execution_count": 27,
   "id": "28267197",
   "metadata": {},
   "outputs": [
    {
     "data": {
      "text/plain": [
       "'0FDF9D2FAB19FB383E35025E7A182AE8'"
      ]
     },
     "execution_count": 27,
     "metadata": {},
     "output_type": "execute_result"
    }
   ],
   "source": [
    "driver.current_window_handle"
   ]
  },
  {
   "cell_type": "code",
   "execution_count": 29,
   "id": "e1eb9610",
   "metadata": {},
   "outputs": [],
   "source": [
    "driver.switch_to.window(driver.window_handles[-1])"
   ]
  },
  {
   "cell_type": "code",
   "execution_count": 30,
   "id": "27f8ae69",
   "metadata": {},
   "outputs": [
    {
     "data": {
      "text/plain": [
       "'0FDF9D2FAB19FB383E35025E7A182AE8'"
      ]
     },
     "execution_count": 30,
     "metadata": {},
     "output_type": "execute_result"
    }
   ],
   "source": [
    "driver.current_window_handle"
   ]
  }
 ],
 "metadata": {
  "kernelspec": {
   "display_name": "Python 3 (ipykernel)",
   "language": "python",
   "name": "python3"
  },
  "language_info": {
   "codemirror_mode": {
    "name": "ipython",
    "version": 3
   },
   "file_extension": ".py",
   "mimetype": "text/x-python",
   "name": "python",
   "nbconvert_exporter": "python",
   "pygments_lexer": "ipython3",
   "version": "3.9.13"
  }
 },
 "nbformat": 4,
 "nbformat_minor": 5
}
